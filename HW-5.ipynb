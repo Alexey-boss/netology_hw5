{
 "cells": [
  {
   "cell_type": "code",
   "execution_count": 3,
   "metadata": {},
   "outputs": [],
   "source": [
    "import os\n",
    "import json"
   ]
  },
  {
   "cell_type": "code",
   "execution_count": 5,
   "metadata": {},
   "outputs": [],
   "source": [
    "# Домашнее задание к лекции Работа с файловой системой и модули\n",
    "#Задание 1. \n",
    "i = 0\n",
    "log_d ={}\n",
    "with open('purchase_log.txt','r',encoding='utf-8') as f:\n",
    "         for line in f:\n",
    "              line = line.strip()\n",
    "              dict_ = json.loads(line)\n",
    "              if dict_['user_id']!='user_id':\n",
    "                    log_d[dict_['user_id']]=dict_['category']         "
   ]
  },
  {
   "cell_type": "code",
   "execution_count": 20,
   "metadata": {},
   "outputs": [],
   "source": [
    "#Задание 2\n",
    "with open('visit_log.csv', 'r') as visit:\n",
    "    with open('funnel.csv', 'w') as funnel:\n",
    "         for line in visit:\n",
    "                line_list = line.strip().split(',')\n",
    "                if line_list[0] in log_d.keys():\n",
    "                    line_list.append(log_d [line_list[0]])\n",
    "                    add_line = ','.join(line_list)\n",
    "                    funnel.write(add_line+'\\n')\n",
    "                  \n",
    "            "
   ]
  }
 ],
 "metadata": {
  "kernelspec": {
   "display_name": "Python 3",
   "language": "python",
   "name": "python3"
  },
  "language_info": {
   "codemirror_mode": {
    "name": "ipython",
    "version": 3
   },
   "file_extension": ".py",
   "mimetype": "text/x-python",
   "name": "python",
   "nbconvert_exporter": "python",
   "pygments_lexer": "ipython3",
   "version": "3.7.7"
  }
 },
 "nbformat": 4,
 "nbformat_minor": 4
}
